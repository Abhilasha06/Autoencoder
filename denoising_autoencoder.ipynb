{
  "nbformat": 4,
  "nbformat_minor": 0,
  "metadata": {
    "colab": {
      "name": "Copy of tayser.ipynb",
      "provenance": [],
      "collapsed_sections": []
    },
    "kernelspec": {
      "name": "python3",
      "display_name": "Python 3"
    },
    "accelerator": "TPU"
  },
  "cells": [
    {
      "cell_type": "code",
      "metadata": {
        "id": "WjHSXOIGXXpy",
        "colab_type": "code",
        "outputId": "ae2a002a-3126-4b93-8eab-e674da3d9d02",
        "colab": {
          "base_uri": "https://localhost:8080/",
          "height": 33
        }
      },
      "source": [
        "import time\n",
        "import os\n",
        "import tensorflow as tf\n",
        "import keras\n",
        "from matplotlib import pyplot as plt\n",
        "import numpy as np\n",
        "%matplotlib inline\n",
        "from keras.datasets import mnist\n",
        "from keras.models import Model\n",
        "from keras.optimizers import RMSprop\n",
        "from keras.layers import Input,Dense,Flatten,Dropout,merge,Reshape,Conv2D,MaxPooling2D,UpSampling2D,Conv2DTranspose\n",
        "from keras.layers.normalization import BatchNormalization\n",
        "from keras.models import Model,Sequential\n",
        "from keras.callbacks import ModelCheckpoint\n",
        "from keras.optimizers import Adadelta, RMSprop,SGD,Adam\n",
        "from keras import regularizers\n",
        "from keras import backend as K\n",
        "from keras.utils import to_categorical\n",
        "import random"
      ],
      "execution_count": 0,
      "outputs": [
        {
          "output_type": "stream",
          "text": [
            "Using TensorFlow backend.\n"
          ],
          "name": "stderr"
        }
      ]
    },
    {
      "cell_type": "code",
      "metadata": {
        "id": "G7iogZsdSkA8",
        "colab_type": "code",
        "outputId": "6894f726-0e39-4ed0-a056-7700b9e98d86",
        "colab": {
          "base_uri": "https://localhost:8080/",
          "height": 120
        }
      },
      "source": [
        "from google.colab import drive\n",
        "drive.mount('/content/drive', force_remount=True)"
      ],
      "execution_count": 0,
      "outputs": [
        {
          "output_type": "stream",
          "text": [
            "Go to this URL in a browser: https://accounts.google.com/o/oauth2/auth?client_id=947318989803-6bn6qk8qdgf4n4g3pfee6491hc0brc4i.apps.googleusercontent.com&redirect_uri=urn%3aietf%3awg%3aoauth%3a2.0%3aoob&response_type=code&scope=email%20https%3a%2f%2fwww.googleapis.com%2fauth%2fdocs.test%20https%3a%2f%2fwww.googleapis.com%2fauth%2fdrive%20https%3a%2f%2fwww.googleapis.com%2fauth%2fdrive.photos.readonly%20https%3a%2f%2fwww.googleapis.com%2fauth%2fpeopleapi.readonly\n",
            "\n",
            "Enter your authorization code:\n",
            "··········\n",
            "Mounted at /content/drive\n"
          ],
          "name": "stdout"
        }
      ]
    },
    {
      "cell_type": "code",
      "metadata": {
        "id": "aJQk0SGyrdEk",
        "colab_type": "code",
        "outputId": "ded3e6aa-9b1a-4f33-9e34-5618c4ab5482",
        "colab": {
          "base_uri": "https://localhost:8080/",
          "height": 683
        }
      },
      "source": [
        "resolver = tf.distribute.cluster_resolver.TPUClusterResolver(tpu='grpc://' + os.environ['COLAB_TPU_ADDR'])\n",
        "tf.config.experimental_connect_to_cluster(resolver)\n",
        "# This is the TPU initialization code that has to be at the beginning.\n",
        "tf.tpu.experimental.initialize_tpu_system(resolver)\n",
        "strategy = tf.distribute.experimental.TPUStrategy(resolver)"
      ],
      "execution_count": 0,
      "outputs": [
        {
          "output_type": "stream",
          "text": [
            "INFO:tensorflow:Initializing the TPU system: grpc://10.19.23.226:8470\n"
          ],
          "name": "stdout"
        },
        {
          "output_type": "stream",
          "text": [
            "INFO:tensorflow:Initializing the TPU system: grpc://10.19.23.226:8470\n"
          ],
          "name": "stderr"
        },
        {
          "output_type": "stream",
          "text": [
            "INFO:tensorflow:Clearing out eager caches\n"
          ],
          "name": "stdout"
        },
        {
          "output_type": "stream",
          "text": [
            "INFO:tensorflow:Clearing out eager caches\n"
          ],
          "name": "stderr"
        },
        {
          "output_type": "stream",
          "text": [
            "INFO:tensorflow:Finished initializing TPU system.\n"
          ],
          "name": "stdout"
        },
        {
          "output_type": "stream",
          "text": [
            "INFO:tensorflow:Finished initializing TPU system.\n"
          ],
          "name": "stderr"
        },
        {
          "output_type": "stream",
          "text": [
            "INFO:tensorflow:Found TPU system:\n"
          ],
          "name": "stdout"
        },
        {
          "output_type": "stream",
          "text": [
            "INFO:tensorflow:Found TPU system:\n"
          ],
          "name": "stderr"
        },
        {
          "output_type": "stream",
          "text": [
            "INFO:tensorflow:*** Num TPU Cores: 8\n"
          ],
          "name": "stdout"
        },
        {
          "output_type": "stream",
          "text": [
            "INFO:tensorflow:*** Num TPU Cores: 8\n"
          ],
          "name": "stderr"
        },
        {
          "output_type": "stream",
          "text": [
            "INFO:tensorflow:*** Num TPU Workers: 1\n"
          ],
          "name": "stdout"
        },
        {
          "output_type": "stream",
          "text": [
            "INFO:tensorflow:*** Num TPU Workers: 1\n"
          ],
          "name": "stderr"
        },
        {
          "output_type": "stream",
          "text": [
            "INFO:tensorflow:*** Num TPU Cores Per Worker: 8\n"
          ],
          "name": "stdout"
        },
        {
          "output_type": "stream",
          "text": [
            "INFO:tensorflow:*** Num TPU Cores Per Worker: 8\n"
          ],
          "name": "stderr"
        },
        {
          "output_type": "stream",
          "text": [
            "INFO:tensorflow:*** Available Device: _DeviceAttributes(/job:localhost/replica:0/task:0/device:CPU:0, CPU, 0, 0)\n"
          ],
          "name": "stdout"
        },
        {
          "output_type": "stream",
          "text": [
            "INFO:tensorflow:*** Available Device: _DeviceAttributes(/job:localhost/replica:0/task:0/device:CPU:0, CPU, 0, 0)\n"
          ],
          "name": "stderr"
        },
        {
          "output_type": "stream",
          "text": [
            "INFO:tensorflow:*** Available Device: _DeviceAttributes(/job:localhost/replica:0/task:0/device:XLA_CPU:0, XLA_CPU, 0, 0)\n"
          ],
          "name": "stdout"
        },
        {
          "output_type": "stream",
          "text": [
            "INFO:tensorflow:*** Available Device: _DeviceAttributes(/job:localhost/replica:0/task:0/device:XLA_CPU:0, XLA_CPU, 0, 0)\n"
          ],
          "name": "stderr"
        },
        {
          "output_type": "stream",
          "text": [
            "INFO:tensorflow:*** Available Device: _DeviceAttributes(/job:worker/replica:0/task:0/device:CPU:0, CPU, 0, 0)\n"
          ],
          "name": "stdout"
        },
        {
          "output_type": "stream",
          "text": [
            "INFO:tensorflow:*** Available Device: _DeviceAttributes(/job:worker/replica:0/task:0/device:CPU:0, CPU, 0, 0)\n"
          ],
          "name": "stderr"
        },
        {
          "output_type": "stream",
          "text": [
            "INFO:tensorflow:*** Available Device: _DeviceAttributes(/job:worker/replica:0/task:0/device:TPU:0, TPU, 0, 0)\n"
          ],
          "name": "stdout"
        },
        {
          "output_type": "stream",
          "text": [
            "INFO:tensorflow:*** Available Device: _DeviceAttributes(/job:worker/replica:0/task:0/device:TPU:0, TPU, 0, 0)\n"
          ],
          "name": "stderr"
        },
        {
          "output_type": "stream",
          "text": [
            "INFO:tensorflow:*** Available Device: _DeviceAttributes(/job:worker/replica:0/task:0/device:TPU:1, TPU, 0, 0)\n"
          ],
          "name": "stdout"
        },
        {
          "output_type": "stream",
          "text": [
            "INFO:tensorflow:*** Available Device: _DeviceAttributes(/job:worker/replica:0/task:0/device:TPU:1, TPU, 0, 0)\n"
          ],
          "name": "stderr"
        },
        {
          "output_type": "stream",
          "text": [
            "INFO:tensorflow:*** Available Device: _DeviceAttributes(/job:worker/replica:0/task:0/device:TPU:2, TPU, 0, 0)\n"
          ],
          "name": "stdout"
        },
        {
          "output_type": "stream",
          "text": [
            "INFO:tensorflow:*** Available Device: _DeviceAttributes(/job:worker/replica:0/task:0/device:TPU:2, TPU, 0, 0)\n"
          ],
          "name": "stderr"
        },
        {
          "output_type": "stream",
          "text": [
            "INFO:tensorflow:*** Available Device: _DeviceAttributes(/job:worker/replica:0/task:0/device:TPU:3, TPU, 0, 0)\n"
          ],
          "name": "stdout"
        },
        {
          "output_type": "stream",
          "text": [
            "INFO:tensorflow:*** Available Device: _DeviceAttributes(/job:worker/replica:0/task:0/device:TPU:3, TPU, 0, 0)\n"
          ],
          "name": "stderr"
        },
        {
          "output_type": "stream",
          "text": [
            "INFO:tensorflow:*** Available Device: _DeviceAttributes(/job:worker/replica:0/task:0/device:TPU:4, TPU, 0, 0)\n"
          ],
          "name": "stdout"
        },
        {
          "output_type": "stream",
          "text": [
            "INFO:tensorflow:*** Available Device: _DeviceAttributes(/job:worker/replica:0/task:0/device:TPU:4, TPU, 0, 0)\n"
          ],
          "name": "stderr"
        },
        {
          "output_type": "stream",
          "text": [
            "INFO:tensorflow:*** Available Device: _DeviceAttributes(/job:worker/replica:0/task:0/device:TPU:5, TPU, 0, 0)\n"
          ],
          "name": "stdout"
        },
        {
          "output_type": "stream",
          "text": [
            "INFO:tensorflow:*** Available Device: _DeviceAttributes(/job:worker/replica:0/task:0/device:TPU:5, TPU, 0, 0)\n"
          ],
          "name": "stderr"
        },
        {
          "output_type": "stream",
          "text": [
            "INFO:tensorflow:*** Available Device: _DeviceAttributes(/job:worker/replica:0/task:0/device:TPU:6, TPU, 0, 0)\n"
          ],
          "name": "stdout"
        },
        {
          "output_type": "stream",
          "text": [
            "INFO:tensorflow:*** Available Device: _DeviceAttributes(/job:worker/replica:0/task:0/device:TPU:6, TPU, 0, 0)\n"
          ],
          "name": "stderr"
        },
        {
          "output_type": "stream",
          "text": [
            "INFO:tensorflow:*** Available Device: _DeviceAttributes(/job:worker/replica:0/task:0/device:TPU:7, TPU, 0, 0)\n"
          ],
          "name": "stdout"
        },
        {
          "output_type": "stream",
          "text": [
            "INFO:tensorflow:*** Available Device: _DeviceAttributes(/job:worker/replica:0/task:0/device:TPU:7, TPU, 0, 0)\n"
          ],
          "name": "stderr"
        },
        {
          "output_type": "stream",
          "text": [
            "INFO:tensorflow:*** Available Device: _DeviceAttributes(/job:worker/replica:0/task:0/device:TPU_SYSTEM:0, TPU_SYSTEM, 0, 0)\n"
          ],
          "name": "stdout"
        },
        {
          "output_type": "stream",
          "text": [
            "INFO:tensorflow:*** Available Device: _DeviceAttributes(/job:worker/replica:0/task:0/device:TPU_SYSTEM:0, TPU_SYSTEM, 0, 0)\n"
          ],
          "name": "stderr"
        },
        {
          "output_type": "stream",
          "text": [
            "INFO:tensorflow:*** Available Device: _DeviceAttributes(/job:worker/replica:0/task:0/device:XLA_CPU:0, XLA_CPU, 0, 0)\n"
          ],
          "name": "stdout"
        },
        {
          "output_type": "stream",
          "text": [
            "INFO:tensorflow:*** Available Device: _DeviceAttributes(/job:worker/replica:0/task:0/device:XLA_CPU:0, XLA_CPU, 0, 0)\n"
          ],
          "name": "stderr"
        }
      ]
    },
    {
      "cell_type": "code",
      "metadata": {
        "id": "5u0XiQNDX53e",
        "colab_type": "code",
        "outputId": "88c8ba4a-1841-4eec-8a94-ebf1afced551",
        "colab": {
          "base_uri": "https://localhost:8080/",
          "height": 50
        }
      },
      "source": [
        "(x_train, y_train), (x_test, y_test) = mnist.load_data()"
      ],
      "execution_count": 0,
      "outputs": [
        {
          "output_type": "stream",
          "text": [
            "Downloading data from https://s3.amazonaws.com/img-datasets/mnist.npz\n",
            "11493376/11490434 [==============================] - 0s 0us/step\n"
          ],
          "name": "stdout"
        }
      ]
    },
    {
      "cell_type": "code",
      "metadata": {
        "id": "fVy2Q2gPYUCX",
        "colab_type": "code",
        "outputId": "7bb46aa5-eb64-43a6-ae3a-83b770e172e8",
        "colab": {
          "base_uri": "https://localhost:8080/",
          "height": 50
        }
      },
      "source": [
        "print(x_train.shape)\n",
        "print(x_test.shape)"
      ],
      "execution_count": 0,
      "outputs": [
        {
          "output_type": "stream",
          "text": [
            "(60000, 28, 28)\n",
            "(10000, 28, 28)\n"
          ],
          "name": "stdout"
        }
      ]
    },
    {
      "cell_type": "code",
      "metadata": {
        "id": "FGKOPUF4YWl7",
        "colab_type": "code",
        "outputId": "8f8c4e2e-99d5-4406-ccae-bf812d6685b5",
        "colab": {
          "base_uri": "https://localhost:8080/",
          "height": 207
        }
      },
      "source": [
        "plt.figure(figsize=[5,5])\n",
        "plt.subplot(121)\n",
        "curr_img = np.reshape(x_train[10], (28,28))\n",
        "curr_lbl = y_train[10]\n",
        "plt.imshow(curr_img, cmap='gray')\n",
        "plt.title(curr_lbl)\n",
        "\n",
        "\n",
        "plt.subplot(122)\n",
        "curr_img = np.reshape(x_test[10], (28,28))\n",
        "curr_lbl = y_test[10]\n",
        "plt.imshow(curr_img, cmap='gray')\n",
        "plt.title(curr_lbl)"
      ],
      "execution_count": 0,
      "outputs": [
        {
          "output_type": "execute_result",
          "data": {
            "text/plain": [
              "Text(0.5, 1.0, '0')"
            ]
          },
          "metadata": {
            "tags": []
          },
          "execution_count": 6
        },
        {
          "output_type": "display_data",
          "data": {
            "image/png": "[encoded data removed]",
            "text/plain": [
              "<Figure size 360x360 with 2 Axes>"
            ]
          },
          "metadata": {
            "tags": [],
            "needs_background": "light"
          }
        }
      ]
    },
    {
      "cell_type": "code",
      "metadata": {
        "id": "0JOZgI5eJQZj",
        "colab_type": "code",
        "outputId": "e28d46ff-f871-42df-bdc9-830e3166f3bb",
        "colab": {
          "base_uri": "https://localhost:8080/",
          "height": 33
        }
      },
      "source": [
        "x_train = x_train.reshape(-1, 28,28, 1)\n",
        "x_test = x_test.reshape(-1, 28,28, 1)\n",
        "x_train.shape, x_test.shape"
      ],
      "execution_count": 0,
      "outputs": [
        {
          "output_type": "execute_result",
          "data": {
            "text/plain": [
              "((60000, 28, 28, 1), (10000, 28, 28, 1))"
            ]
          },
          "metadata": {
            "tags": []
          },
          "execution_count": 7
        }
      ]
    },
    {
      "cell_type": "code",
      "metadata": {
        "id": "w27tSEXwIfCm",
        "colab_type": "code",
        "colab": {}
      },
      "source": [
        "noisy_train =[]\n",
        "for image in x_train:\n",
        "    row,col,ch= image.shape\n",
        "    mean = 0\n",
        "    var = random.randint(100, 300)\n",
        "    sigma = var**0.5\n",
        "    gauss = np.random.normal(mean,sigma,(row,col,ch)).astype(np.float32)\n",
        "    gauss = gauss.reshape(row,col,ch)\n",
        "    noisy = image + gauss\n",
        "    noisy_train.append(noisy)"
      ],
      "execution_count": 0,
      "outputs": []
    },
    {
      "cell_type": "code",
      "metadata": {
        "id": "mgagWQuqIfTZ",
        "colab_type": "code",
        "colab": {}
      },
      "source": [
        "noisy_test =[]\n",
        "for image in x_test:\n",
        "    row,col,ch= image.shape\n",
        "    mean = 0\n",
        "    var = random.randint(100, 300)\n",
        "    sigma = var**0.5\n",
        "    gauss = np.random.normal(mean,sigma,(row,col,ch))\n",
        "    gauss = gauss.reshape(row,col,ch)\n",
        "    image = image + gauss\n",
        "    noisy_test.append(image)"
      ],
      "execution_count": 0,
      "outputs": []
    },
    {
      "cell_type": "code",
      "metadata": {
        "id": "9xUlOSaxIuJz",
        "colab_type": "code",
        "outputId": "45ce7958-80fe-4551-d6e5-cf1f6bce5cb1",
        "colab": {
          "base_uri": "https://localhost:8080/",
          "height": 207
        }
      },
      "source": [
        "plt.figure(figsize=[5,5])\n",
        "\n",
        "plt.subplot(121)\n",
        "curr_img = np.reshape(noisy_train[10], (28,28))\n",
        "curr_lbl = y_train[10]\n",
        "plt.imshow(curr_img, cmap='gray')\n",
        "plt.title(curr_lbl)\n",
        "\n",
        "\n",
        "plt.subplot(122)\n",
        "curr_img = np.reshape(noisy_test[10], (28,28))\n",
        "curr_lbl = y_test[10]\n",
        "plt.imshow(curr_img, cmap='gray')\n",
        "plt.title(curr_lbl)"
      ],
      "execution_count": 0,
      "outputs": [
        {
          "output_type": "execute_result",
          "data": {
            "text/plain": [
              "Text(0.5, 1.0, '0')"
            ]
          },
          "metadata": {
            "tags": []
          },
          "execution_count": 10
        },
        {
          "output_type": "display_data",
          "data": {
            "image/png": "[encoded data removed]",
            "text/plain": [
              "<Figure size 360x360 with 2 Axes>"
            ]
          },
          "metadata": {
            "tags": [],
            "needs_background": "light"
          }
        }
      ]
    },
    {
      "cell_type": "code",
      "metadata": {
        "id": "_uKDTbvXZVrd",
        "colab_type": "code",
        "outputId": "b3901b1a-10a5-451a-9fac-54e27648bf4d",
        "colab": {
          "base_uri": "https://localhost:8080/",
          "height": 33
        }
      },
      "source": [
        "np.max(x_train), np.max(x_test)\n",
        "np.max(noisy_train), np.max(noisy_test)"
      ],
      "execution_count": 0,
      "outputs": [
        {
          "output_type": "execute_result",
          "data": {
            "text/plain": [
              "(337.16025, 329.861249646022)"
            ]
          },
          "metadata": {
            "tags": []
          },
          "execution_count": 11
        }
      ]
    },
    {
      "cell_type": "code",
      "metadata": {
        "id": "312dlEcCZeit",
        "colab_type": "code",
        "colab": {}
      },
      "source": [
        "x_train = x_train / np.max(x_train)\n",
        "x_test = x_test / np.max(x_test)\n",
        "\n",
        "noisy_train = noisy_train / np.max(noisy_train)\n",
        "noisy_test = noisy_test / np.max(noisy_test)"
      ],
      "execution_count": 0,
      "outputs": []
    },
    {
      "cell_type": "code",
      "metadata": {
        "id": "uaCyTWFDZotZ",
        "colab_type": "code",
        "colab": {}
      },
      "source": [
        "\n",
        "from sklearn.model_selection import train_test_split\n",
        "train_X_noisy,valid_X_noisy,train_ground,valid_ground = train_test_split(noisy_train,\n",
        "                                                             x_train,\n",
        "                                                             test_size=0.2,\n",
        "                                                             random_state=13)"
      ],
      "execution_count": 0,
      "outputs": []
    },
    {
      "cell_type": "code",
      "metadata": {
        "id": "1vNvHb76PgGx",
        "colab_type": "code",
        "outputId": "8a5415b6-08a2-4f78-bc74-598eb61f96f5",
        "colab": {
          "base_uri": "https://localhost:8080/",
          "height": 192
        }
      },
      "source": [
        "plt.figure(figsize=[5,5])\n",
        "plt.subplot(121)\n",
        "curr_img = np.reshape(train_X_noisy[10], (28,28))\n",
        "plt.imshow(curr_img, cmap='gray')\n",
        "\n",
        "\n",
        "plt.subplot(122)\n",
        "curr_img = np.reshape(train_ground[10], (28,28))\n",
        "plt.imshow(curr_img, cmap='gray')\n",
        "\n",
        "\n"
      ],
      "execution_count": 0,
      "outputs": [
        {
          "output_type": "execute_result",
          "data": {
            "text/plain": [
              "<matplotlib.image.AxesImage at 0x7f8938ca68d0>"
            ]
          },
          "metadata": {
            "tags": []
          },
          "execution_count": 14
        },
        {
          "output_type": "display_data",
          "data": {
            "image/png": "[encoded data removed]",
            "text/plain": [
              "<Figure size 360x360 with 2 Axes>"
            ]
          },
          "metadata": {
            "tags": [],
            "needs_background": "light"
          }
        }
      ]
    },
    {
      "cell_type": "code",
      "metadata": {
        "id": "e4BqKcbBZ2th",
        "colab_type": "code",
        "colab": {}
      },
      "source": [
        "batch_size = 64*8\n",
        "epochs = 150\n",
        "inChannel = 1\n",
        "x, y = 28, 28\n",
        "input_img = Input(shape = (x, y, inChannel))\n",
        "num_classes = 10"
      ],
      "execution_count": 0,
      "outputs": []
    },
    {
      "cell_type": "code",
      "metadata": {
        "id": "a2eHla9wZ5om",
        "colab_type": "code",
        "colab": {}
      },
      "source": [
        "def encoder(input_img):\n",
        "    #encoder\n",
        "    #input = 28 x 28 x 1 (wide and thin)\n",
        "    conv1 = Conv2D(32, (3, 3), activation='relu', padding='same')(input_img) #28 x 28 x 32\n",
        "    conv1 = BatchNormalization()(conv1)\n",
        "    conv1 = Conv2D(32, (3, 3), activation='relu', padding='same')(conv1)\n",
        "    conv1 = BatchNormalization()(conv1)\n",
        "    pool1 = MaxPooling2D(pool_size=(2, 2))(conv1) #14 x 14 x 32\n",
        "    conv2 = Conv2D(64, (3, 3), activation='relu', padding='same')(pool1) #14 x 14 x 64\n",
        "    conv2 = BatchNormalization()(conv2)\n",
        "    conv2 = Conv2D(64, (3, 3), activation='relu', padding='same')(conv2)\n",
        "    conv2 = BatchNormalization()(conv2)\n",
        "    pool2 = MaxPooling2D(pool_size=(2, 2))(conv2) #7 x 7 x 64\n",
        "    conv3 = Conv2D(128, (3, 3), activation='relu', padding='same')(pool2) #7 x 7 x 128\n",
        "    conv3 = BatchNormalization()(conv3)\n",
        "    conv3 = Conv2D(128, (3, 3), activation='relu', padding='same')(conv3)\n",
        "    conv3 = BatchNormalization()(conv3)\n",
        "  \n",
        "    return conv3\n",
        "\n",
        "def decoder(conv3):    \n",
        "    #decoder\n",
        "    conv4 = Conv2D(128, (3, 3), activation='relu', padding='same')(conv3) #7 x 7 x 128\n",
        "    conv4 = BatchNormalization()(conv4)\n",
        "    conv4 = Conv2D(128, (3, 3), activation='relu', padding='same')(conv4)\n",
        "    conv4 = BatchNormalization()(conv4)\n",
        "    conv5 = Conv2D(64, (3, 3), activation='relu', padding='same')(conv4) #7 x 7 x 64\n",
        "    conv5 = BatchNormalization()(conv5)\n",
        "    conv5 = Conv2D(64, (3, 3), activation='relu', padding='same')(conv5)\n",
        "    conv5 = BatchNormalization()(conv5)\n",
        "    up1 = UpSampling2D((2,2))(conv5) #14 x 14 x 64\n",
        "    conv6 = Conv2D(32, (3, 3), activation='relu', padding='same')(up1) # 14 x 14 x 32\n",
        "    conv6 = BatchNormalization()(conv6)\n",
        "    conv6 = Conv2D(32, (3, 3), activation='relu', padding='same')(conv6)\n",
        "    conv6 = BatchNormalization()(conv6)\n",
        "    up2 = UpSampling2D((2,2))(conv6) # 28 x 28 x 32\n",
        "    decoded = Conv2D(1, (3, 3), activation='sigmoid', padding='same')(up2) # 28 x 28 x 1\n",
        "    return decoded"
      ],
      "execution_count": 0,
      "outputs": []
    },
    {
      "cell_type": "code",
      "metadata": {
        "id": "FemG8B_ihQ6B",
        "colab_type": "code",
        "outputId": "acdea459-be76-4710-e323-7ceccb923017",
        "colab": {
          "base_uri": "https://localhost:8080/",
          "height": 1000
        }
      },
      "source": [
        "with strategy.scope():\n",
        " \n",
        "  denoising_autoencoder = Model(input_img, decoder(encoder(input_img)))\n",
        "  denoising_autoencoder.compile(loss='mean_squared_error', optimizer = RMSprop())\n",
        "\n",
        "\n",
        "de_autoencoder_train = denoising_autoencoder.fit(train_X_noisy, train_ground, batch_size=batch_size,epochs=epochs,verbose=1,validation_data=(valid_X_noisy, valid_ground))"
      ],
      "execution_count": 0,
      "outputs": [
        {
          "output_type": "stream",
          "text": [
            "Train on 48000 samples, validate on 12000 samples\n",
            "Epoch 1/150\n",
            "48000/48000 [==============================] - 50s 1ms/step - loss: 0.0553 - val_loss: 0.1040\n",
            "Epoch 2/150\n",
            "48000/48000 [==============================] - 46s 965us/step - loss: 0.0173 - val_loss: 0.0826\n",
            "Epoch 3/150\n",
            "48000/48000 [==============================] - 47s 974us/step - loss: 0.0111 - val_loss: 0.2045\n",
            "Epoch 4/150\n",
            "48000/48000 [==============================] - 46s 963us/step - loss: 0.0086 - val_loss: 0.3914\n",
            "Epoch 5/150\n",
            "48000/48000 [==============================] - 47s 982us/step - loss: 0.0071 - val_loss: 0.1737\n",
            "Epoch 6/150\n",
            "48000/48000 [==============================] - 47s 972us/step - loss: 0.0060 - val_loss: 0.0067\n",
            "Epoch 7/150\n",
            "48000/48000 [==============================] - 47s 977us/step - loss: 0.0054 - val_loss: 0.0056\n",
            "Epoch 8/150\n",
            "48000/48000 [==============================] - 46s 953us/step - loss: 0.0050 - val_loss: 0.0094\n",
            "Epoch 9/150\n",
            "48000/48000 [==============================] - 45s 939us/step - loss: 0.0047 - val_loss: 0.0060\n",
            "Epoch 10/150\n",
            "48000/48000 [==============================] - 45s 938us/step - loss: 0.0044 - val_loss: 0.0049\n",
            "Epoch 11/150\n",
            "48000/48000 [==============================] - 45s 945us/step - loss: 0.0041 - val_loss: 0.0050\n",
            "Epoch 12/150\n",
            "48000/48000 [==============================] - 45s 935us/step - loss: 0.0040 - val_loss: 0.0046\n",
            "Epoch 13/150\n",
            "48000/48000 [==============================] - 45s 946us/step - loss: 0.0037 - val_loss: 0.0057\n",
            "Epoch 14/150\n",
            "48000/48000 [==============================] - 45s 946us/step - loss: 0.0035 - val_loss: 0.0043\n",
            "Epoch 15/150\n",
            "48000/48000 [==============================] - 45s 935us/step - loss: 0.0033 - val_loss: 0.0046\n",
            "Epoch 16/150\n",
            "48000/48000 [==============================] - 45s 935us/step - loss: 0.0032 - val_loss: 0.0037\n",
            "Epoch 17/150\n",
            "48000/48000 [==============================] - 45s 935us/step - loss: 0.0031 - val_loss: 0.0037\n",
            "Epoch 18/150\n",
            "48000/48000 [==============================] - 45s 931us/step - loss: 0.0030 - val_loss: 0.0042\n",
            "Epoch 19/150\n",
            "48000/48000 [==============================] - 45s 939us/step - loss: 0.0029 - val_loss: 0.0056\n",
            "Epoch 20/150\n",
            "48000/48000 [==============================] - 46s 952us/step - loss: 0.0028 - val_loss: 0.0036\n",
            "Epoch 21/150\n",
            "48000/48000 [==============================] - 46s 952us/step - loss: 0.0028 - val_loss: 0.0046\n",
            "Epoch 22/150\n",
            "48000/48000 [==============================] - 45s 928us/step - loss: 0.0030 - val_loss: 0.0029\n",
            "Epoch 23/150\n",
            "48000/48000 [==============================] - 45s 938us/step - loss: 0.0026 - val_loss: 0.0026\n",
            "Epoch 24/150\n",
            "48000/48000 [==============================] - 45s 942us/step - loss: 0.0025 - val_loss: 0.0026\n",
            "Epoch 25/150\n",
            "48000/48000 [==============================] - 45s 944us/step - loss: 0.0025 - val_loss: 0.0026\n",
            "Epoch 26/150\n",
            "48000/48000 [==============================] - 45s 934us/step - loss: 0.0024 - val_loss: 0.0034\n",
            "Epoch 27/150\n",
            "48000/48000 [==============================] - 45s 945us/step - loss: 0.0024 - val_loss: 0.0028\n",
            "Epoch 28/150\n",
            "48000/48000 [==============================] - 45s 947us/step - loss: 0.0024 - val_loss: 0.0028\n",
            "Epoch 29/150\n",
            "48000/48000 [==============================] - 45s 936us/step - loss: 0.0023 - val_loss: 0.0030\n",
            "Epoch 30/150\n",
            "48000/48000 [==============================] - 45s 945us/step - loss: 0.0023 - val_loss: 0.0031\n",
            "Epoch 31/150\n",
            "48000/48000 [==============================] - 45s 938us/step - loss: 0.0023 - val_loss: 0.0034\n",
            "Epoch 32/150\n",
            "48000/48000 [==============================] - 45s 936us/step - loss: 0.0022 - val_loss: 0.0026\n",
            "Epoch 33/150\n",
            "48000/48000 [==============================] - 45s 932us/step - loss: 0.0022 - val_loss: 0.0027\n",
            "Epoch 34/150\n",
            "48000/48000 [==============================] - 45s 937us/step - loss: 0.0022 - val_loss: 0.0021\n",
            "Epoch 35/150\n",
            "48000/48000 [==============================] - 45s 938us/step - loss: 0.0022 - val_loss: 0.0025\n",
            "Epoch 36/150\n",
            "48000/48000 [==============================] - 45s 936us/step - loss: 0.0021 - val_loss: 0.0023\n",
            "Epoch 37/150\n",
            "48000/48000 [==============================] - 45s 933us/step - loss: 0.0021 - val_loss: 0.0026\n",
            "Epoch 38/150\n",
            "48000/48000 [==============================] - 45s 931us/step - loss: 0.0019 - val_loss: 0.0026\n",
            "Epoch 39/150\n",
            "48000/48000 [==============================] - 45s 940us/step - loss: 0.0020 - val_loss: 0.0036\n",
            "Epoch 40/150\n",
            "48000/48000 [==============================] - 45s 947us/step - loss: 0.0020 - val_loss: 0.0024\n",
            "Epoch 41/150\n",
            "48000/48000 [==============================] - 46s 948us/step - loss: 0.0019 - val_loss: 0.0026\n",
            "Epoch 42/150\n",
            "48000/48000 [==============================] - 45s 943us/step - loss: 0.0020 - val_loss: 0.0024\n",
            "Epoch 43/150\n",
            "48000/48000 [==============================] - 45s 941us/step - loss: 0.0019 - val_loss: 0.0029\n",
            "Epoch 44/150\n",
            "48000/48000 [==============================] - 45s 932us/step - loss: 0.0019 - val_loss: 0.0026\n",
            "Epoch 45/150\n",
            "48000/48000 [==============================] - 45s 939us/step - loss: 0.0019 - val_loss: 0.0024\n",
            "Epoch 46/150\n",
            "48000/48000 [==============================] - 45s 935us/step - loss: 0.0018 - val_loss: 0.0020\n",
            "Epoch 47/150\n",
            "48000/48000 [==============================] - 45s 946us/step - loss: 0.0018 - val_loss: 0.0021\n",
            "Epoch 48/150\n",
            "48000/48000 [==============================] - 46s 949us/step - loss: 0.0018 - val_loss: 0.0019\n",
            "Epoch 49/150\n",
            "48000/48000 [==============================] - 46s 948us/step - loss: 0.0018 - val_loss: 0.0019\n",
            "Epoch 50/150\n",
            "48000/48000 [==============================] - 45s 932us/step - loss: 0.0018 - val_loss: 0.0023\n",
            "Epoch 51/150\n",
            "48000/48000 [==============================] - 45s 940us/step - loss: 0.0018 - val_loss: 0.0021\n",
            "Epoch 52/150\n",
            "48000/48000 [==============================] - 45s 939us/step - loss: 0.0017 - val_loss: 0.0024\n",
            "Epoch 53/150\n",
            "48000/48000 [==============================] - 46s 952us/step - loss: 0.0017 - val_loss: 0.0019\n",
            "Epoch 54/150\n",
            "48000/48000 [==============================] - 45s 942us/step - loss: 0.0017 - val_loss: 0.0020\n",
            "Epoch 55/150\n",
            "48000/48000 [==============================] - 46s 957us/step - loss: 0.0017 - val_loss: 0.0019\n",
            "Epoch 56/150\n",
            "48000/48000 [==============================] - 46s 951us/step - loss: 0.0017 - val_loss: 0.0018\n",
            "Epoch 57/150\n",
            "48000/48000 [==============================] - 46s 951us/step - loss: 0.0017 - val_loss: 0.0017\n",
            "Epoch 58/150\n",
            "48000/48000 [==============================] - 45s 931us/step - loss: 0.0016 - val_loss: 0.0020\n",
            "Epoch 59/150\n",
            "48000/48000 [==============================] - 45s 941us/step - loss: 0.0016 - val_loss: 0.0018\n",
            "Epoch 60/150\n",
            "48000/48000 [==============================] - 45s 936us/step - loss: 0.0017 - val_loss: 0.0017\n",
            "Epoch 61/150\n",
            "48000/48000 [==============================] - 45s 943us/step - loss: 0.0016 - val_loss: 0.0019\n",
            "Epoch 62/150\n",
            "48000/48000 [==============================] - 46s 952us/step - loss: 0.0016 - val_loss: 0.0019\n",
            "Epoch 63/150\n",
            "48000/48000 [==============================] - 45s 935us/step - loss: 0.0016 - val_loss: 0.0018\n",
            "Epoch 64/150\n",
            "48000/48000 [==============================] - 45s 935us/step - loss: 0.0016 - val_loss: 0.0019\n",
            "Epoch 65/150\n",
            "48000/48000 [==============================] - 45s 939us/step - loss: 0.0015 - val_loss: 0.0017\n",
            "Epoch 66/150\n",
            "48000/48000 [==============================] - 45s 935us/step - loss: 0.0016 - val_loss: 0.0020\n",
            "Epoch 67/150\n",
            "48000/48000 [==============================] - 45s 940us/step - loss: 0.0015 - val_loss: 0.0017\n",
            "Epoch 68/150\n",
            "48000/48000 [==============================] - 45s 937us/step - loss: 0.0015 - val_loss: 0.0019\n",
            "Epoch 69/150\n",
            "48000/48000 [==============================] - 46s 951us/step - loss: 0.0015 - val_loss: 0.0019\n",
            "Epoch 70/150\n",
            "48000/48000 [==============================] - 45s 939us/step - loss: 0.0015 - val_loss: 0.0017\n",
            "Epoch 71/150\n",
            "48000/48000 [==============================] - 45s 942us/step - loss: 0.0015 - val_loss: 0.0017\n",
            "Epoch 72/150\n",
            "48000/48000 [==============================] - 45s 935us/step - loss: 0.0015 - val_loss: 0.0021\n",
            "Epoch 73/150\n",
            "48000/48000 [==============================] - 45s 938us/step - loss: 0.0015 - val_loss: 0.0019\n",
            "Epoch 74/150\n",
            "48000/48000 [==============================] - 45s 936us/step - loss: 0.0015 - val_loss: 0.0018\n",
            "Epoch 75/150\n",
            "48000/48000 [==============================] - 45s 940us/step - loss: 0.0015 - val_loss: 0.0015\n",
            "Epoch 76/150\n",
            "48000/48000 [==============================] - 46s 950us/step - loss: 0.0014 - val_loss: 0.0019\n",
            "Epoch 77/150\n",
            "48000/48000 [==============================] - 45s 933us/step - loss: 0.0014 - val_loss: 0.0016\n",
            "Epoch 78/150\n",
            "48000/48000 [==============================] - 45s 943us/step - loss: 0.0014 - val_loss: 0.0022\n",
            "Epoch 79/150\n",
            "48000/48000 [==============================] - 45s 938us/step - loss: 0.0014 - val_loss: 0.0016\n",
            "Epoch 80/150\n",
            "48000/48000 [==============================] - 45s 937us/step - loss: 0.0014 - val_loss: 0.0017\n",
            "Epoch 81/150\n",
            "48000/48000 [==============================] - 45s 931us/step - loss: 0.0014 - val_loss: 0.0015\n",
            "Epoch 82/150\n",
            "48000/48000 [==============================] - 45s 946us/step - loss: 0.0014 - val_loss: 0.0020\n",
            "Epoch 83/150\n",
            "48000/48000 [==============================] - 46s 950us/step - loss: 0.0014 - val_loss: 0.0015\n",
            "Epoch 84/150\n",
            "48000/48000 [==============================] - 45s 936us/step - loss: 0.0014 - val_loss: 0.0020\n",
            "Epoch 85/150\n",
            "48000/48000 [==============================] - 46s 950us/step - loss: 0.0014 - val_loss: 0.0016\n",
            "Epoch 86/150\n",
            "48000/48000 [==============================] - 45s 940us/step - loss: 0.0014 - val_loss: 0.0017\n",
            "Epoch 87/150\n",
            "48000/48000 [==============================] - 45s 938us/step - loss: 0.0014 - val_loss: 0.0018\n",
            "Epoch 88/150\n",
            "48000/48000 [==============================] - 45s 934us/step - loss: 0.0014 - val_loss: 0.0016\n",
            "Epoch 89/150\n",
            "48000/48000 [==============================] - 46s 955us/step - loss: 0.0013 - val_loss: 0.0020\n",
            "Epoch 90/150\n",
            "48000/48000 [==============================] - 45s 947us/step - loss: 0.0013 - val_loss: 0.0017\n",
            "Epoch 91/150\n",
            "48000/48000 [==============================] - 45s 944us/step - loss: 0.0013 - val_loss: 0.0023\n",
            "Epoch 92/150\n",
            "48000/48000 [==============================] - 46s 957us/step - loss: 0.0013 - val_loss: 0.0017\n",
            "Epoch 93/150\n",
            "48000/48000 [==============================] - 46s 949us/step - loss: 0.0013 - val_loss: 0.0017\n",
            "Epoch 94/150\n",
            "48000/48000 [==============================] - 46s 949us/step - loss: 0.0013 - val_loss: 0.0016\n",
            "Epoch 95/150\n",
            "48000/48000 [==============================] - 46s 955us/step - loss: 0.0013 - val_loss: 0.0015\n",
            "Epoch 96/150\n",
            "48000/48000 [==============================] - 46s 951us/step - loss: 0.0013 - val_loss: 0.0017\n",
            "Epoch 97/150\n",
            "48000/48000 [==============================] - 46s 953us/step - loss: 0.0013 - val_loss: 0.0016\n",
            "Epoch 98/150\n",
            "48000/48000 [==============================] - 46s 951us/step - loss: 0.0013 - val_loss: 0.0195\n",
            "Epoch 99/150\n",
            "48000/48000 [==============================] - 46s 951us/step - loss: 0.0013 - val_loss: 0.0020\n",
            "Epoch 100/150\n",
            "48000/48000 [==============================] - 46s 952us/step - loss: 0.0013 - val_loss: 0.0016\n",
            "Epoch 101/150\n",
            "48000/48000 [==============================] - 46s 953us/step - loss: 0.0013 - val_loss: 0.0014\n",
            "Epoch 102/150\n",
            "48000/48000 [==============================] - 46s 952us/step - loss: 0.0012 - val_loss: 0.0014\n",
            "Epoch 103/150\n",
            "48000/48000 [==============================] - 46s 952us/step - loss: 0.0012 - val_loss: 0.0013\n",
            "Epoch 104/150\n",
            "48000/48000 [==============================] - 45s 937us/step - loss: 0.0012 - val_loss: 0.0018\n",
            "Epoch 105/150\n",
            "48000/48000 [==============================] - 45s 942us/step - loss: 0.0012 - val_loss: 0.0016\n",
            "Epoch 106/150\n",
            "48000/48000 [==============================] - 46s 959us/step - loss: 0.0012 - val_loss: 0.0016\n",
            "Epoch 107/150\n",
            "48000/48000 [==============================] - 46s 957us/step - loss: 0.0012 - val_loss: 0.0013\n",
            "Epoch 108/150\n",
            "48000/48000 [==============================] - 45s 942us/step - loss: 0.0012 - val_loss: 0.0014\n",
            "Epoch 109/150\n",
            "48000/48000 [==============================] - 46s 950us/step - loss: 0.0012 - val_loss: 0.0015\n",
            "Epoch 110/150\n",
            "48000/48000 [==============================] - 45s 944us/step - loss: 0.0012 - val_loss: 0.0016\n",
            "Epoch 111/150\n",
            "48000/48000 [==============================] - 46s 963us/step - loss: 0.0012 - val_loss: 0.0014\n",
            "Epoch 112/150\n",
            "48000/48000 [==============================] - 46s 949us/step - loss: 0.0012 - val_loss: 0.0014\n",
            "Epoch 113/150\n",
            "48000/48000 [==============================] - 45s 943us/step - loss: 0.0012 - val_loss: 0.0014\n",
            "Epoch 114/150\n",
            "48000/48000 [==============================] - 46s 953us/step - loss: 0.0012 - val_loss: 0.0013\n",
            "Epoch 115/150\n",
            "48000/48000 [==============================] - 45s 939us/step - loss: 0.0012 - val_loss: 0.0014\n",
            "Epoch 116/150\n",
            "48000/48000 [==============================] - 45s 943us/step - loss: 0.0012 - val_loss: 0.0014\n",
            "Epoch 117/150\n",
            "48000/48000 [==============================] - 45s 947us/step - loss: 0.0012 - val_loss: 0.0014\n",
            "Epoch 118/150\n",
            "48000/48000 [==============================] - 45s 937us/step - loss: 0.0012 - val_loss: 0.0018\n",
            "Epoch 119/150\n",
            "48000/48000 [==============================] - 46s 958us/step - loss: 0.0012 - val_loss: 0.0019\n",
            "Epoch 120/150\n",
            "48000/48000 [==============================] - 45s 943us/step - loss: 0.0011 - val_loss: 0.0016\n",
            "Epoch 121/150\n",
            "48000/48000 [==============================] - 46s 952us/step - loss: 0.0012 - val_loss: 0.0012\n",
            "Epoch 122/150\n",
            "48000/48000 [==============================] - 45s 948us/step - loss: 0.0011 - val_loss: 0.0016\n",
            "Epoch 123/150\n",
            "48000/48000 [==============================] - 45s 946us/step - loss: 0.0011 - val_loss: 0.0016\n",
            "Epoch 124/150\n",
            "48000/48000 [==============================] - 45s 934us/step - loss: 0.0011 - val_loss: 0.0019\n",
            "Epoch 125/150\n",
            "48000/48000 [==============================] - 45s 935us/step - loss: 0.0011 - val_loss: 0.0013\n",
            "Epoch 126/150\n",
            "48000/48000 [==============================] - 45s 946us/step - loss: 0.0011 - val_loss: 0.0015\n",
            "Epoch 127/150\n",
            "48000/48000 [==============================] - 46s 951us/step - loss: 0.0011 - val_loss: 0.0014\n",
            "Epoch 128/150\n",
            "48000/48000 [==============================] - 45s 942us/step - loss: 0.0011 - val_loss: 0.0013\n",
            "Epoch 129/150\n",
            "48000/48000 [==============================] - 46s 955us/step - loss: 0.0011 - val_loss: 0.0015\n",
            "Epoch 130/150\n",
            "48000/48000 [==============================] - 45s 945us/step - loss: 0.0011 - val_loss: 0.0013\n",
            "Epoch 131/150\n",
            "48000/48000 [==============================] - 45s 930us/step - loss: 0.0011 - val_loss: 0.0013\n",
            "Epoch 132/150\n",
            "48000/48000 [==============================] - 45s 941us/step - loss: 0.0011 - val_loss: 0.0013\n",
            "Epoch 133/150\n",
            "48000/48000 [==============================] - 45s 939us/step - loss: 0.0011 - val_loss: 0.0013\n",
            "Epoch 134/150\n",
            "48000/48000 [==============================] - 45s 936us/step - loss: 0.0011 - val_loss: 0.0013\n",
            "Epoch 135/150\n",
            "48000/48000 [==============================] - 45s 943us/step - loss: 0.0011 - val_loss: 0.0012\n",
            "Epoch 136/150\n",
            "48000/48000 [==============================] - 45s 943us/step - loss: 0.0011 - val_loss: 0.0013\n",
            "Epoch 137/150\n",
            "48000/48000 [==============================] - 45s 946us/step - loss: 0.0011 - val_loss: 0.0014\n",
            "Epoch 138/150\n",
            "48000/48000 [==============================] - 45s 945us/step - loss: 0.0011 - val_loss: 0.0013\n",
            "Epoch 139/150\n",
            "48000/48000 [==============================] - 45s 935us/step - loss: 0.0011 - val_loss: 0.0012\n",
            "Epoch 140/150\n",
            "48000/48000 [==============================] - 45s 944us/step - loss: 0.0011 - val_loss: 0.0012\n",
            "Epoch 141/150\n",
            "48000/48000 [==============================] - 45s 937us/step - loss: 0.0011 - val_loss: 0.0014\n",
            "Epoch 142/150\n",
            "48000/48000 [==============================] - 45s 942us/step - loss: 0.0010 - val_loss: 0.0016\n",
            "Epoch 143/150\n",
            "48000/48000 [==============================] - 45s 933us/step - loss: 0.0011 - val_loss: 0.0012\n",
            "Epoch 144/150\n",
            "48000/48000 [==============================] - 46s 957us/step - loss: 0.0011 - val_loss: 0.0014\n",
            "Epoch 145/150\n",
            "48000/48000 [==============================] - 45s 944us/step - loss: 0.0011 - val_loss: 0.0012\n",
            "Epoch 146/150\n",
            "48000/48000 [==============================] - 45s 937us/step - loss: 0.0010 - val_loss: 0.0016\n",
            "Epoch 147/150\n",
            "48000/48000 [==============================] - 45s 933us/step - loss: 0.0010 - val_loss: 0.0013\n",
            "Epoch 148/150\n",
            "48000/48000 [==============================] - 45s 946us/step - loss: 0.0010 - val_loss: 0.0012\n",
            "Epoch 149/150\n",
            "48000/48000 [==============================] - 45s 940us/step - loss: 0.0010 - val_loss: 0.0012\n",
            "Epoch 150/150\n",
            "48000/48000 [==============================] - 45s 947us/step - loss: 0.0010 - val_loss: 0.0012\n"
          ],
          "name": "stdout"
        }
      ]
    },
    {
      "cell_type": "code",
      "metadata": {
        "id": "74-5LjqmIhtK",
        "colab_type": "code",
        "colab": {}
      },
      "source": [
        "denoising_autoencoder.save_weights('/content/drive/My Drive/fin_denoising_autoencoder.h5')"
      ],
      "execution_count": 0,
      "outputs": []
    },
    {
      "cell_type": "code",
      "metadata": {
        "id": "jM_EtoB3aEU5",
        "colab_type": "code",
        "outputId": "67586a0f-6adc-4298-d68c-c368614eefac",
        "colab": {
          "base_uri": "https://localhost:8080/",
          "height": 281
        }
      },
      "source": [
        "loss = de_autoencoder_train.history['loss']\n",
        "val_loss = de_autoencoder_train.history['val_loss']\n",
        "epochs = range(150)\n",
        "plt.figure()\n",
        "plt.plot(epochs, loss, 'r', label='Training loss')\n",
        "plt.plot(epochs, val_loss, 'b', label='Validation loss')\n",
        "plt.title('Training and validation loss')\n",
        "plt.legend()\n",
        "plt.show()"
      ],
      "execution_count": 0,
      "outputs": [
        {
          "output_type": "display_data",
          "data": {
            "image/png": "[encoded data removed]",
            "text/plain": [
              "<Figure size 432x288 with 1 Axes>"
            ]
          },
          "metadata": {
            "tags": [],
            "needs_background": "light"
          }
        }
      ]
    },
    {
      "cell_type": "code",
      "metadata": {
        "id": "P6phucKUbKW2",
        "colab_type": "code",
        "colab": {}
      },
      "source": [
        "loaded_model = Model(input_img, decoder(encoder(input_img)))\n",
        "# load weights into new model\n",
        "loaded_model.load_weights(\"/content/drive/My Drive/fin_denoising_autoencoder.h5\")\n"
      ],
      "execution_count": 0,
      "outputs": []
    },
    {
      "cell_type": "code",
      "metadata": {
        "id": "-Rp8SmDhRYfB",
        "colab_type": "code",
        "outputId": "e29fef14-2a35-4e05-ca2b-7722bfb03329",
        "colab": {
          "base_uri": "https://localhost:8080/",
          "height": 50
        }
      },
      "source": [
        "train_Y_one_hot = to_categorical(y_train)\n",
        "test_Y_one_hot = to_categorical(y_test)\n",
        "\n",
        "# Display the change for category label using one-hot encoding\n",
        "print('Original label:', y_train[0])\n",
        "print('After conversion to one-hot:', train_Y_one_hot[0])"
      ],
      "execution_count": 0,
      "outputs": [
        {
          "output_type": "stream",
          "text": [
            "Original label: 5\n",
            "After conversion to one-hot: [0. 0. 0. 0. 0. 1. 0. 0. 0. 0.]\n"
          ],
          "name": "stdout"
        }
      ]
    },
    {
      "cell_type": "code",
      "metadata": {
        "id": "Hf3uCHdRRfSJ",
        "colab_type": "code",
        "colab": {}
      },
      "source": [
        "train_X_noisy,valid_X_noisy,train_label,valid_label = train_test_split(noisy_train,train_Y_one_hot,test_size=0.2,random_state=13)"
      ],
      "execution_count": 0,
      "outputs": []
    },
    {
      "cell_type": "code",
      "metadata": {
        "id": "0Lpf7ZeLCi6O",
        "colab_type": "code",
        "outputId": "a557d231-70fc-490d-e228-9ea0220e7b93",
        "colab": {
          "base_uri": "https://localhost:8080/",
          "height": 241
        }
      },
      "source": [
        "plt.figure(figsize=[5,5])\n",
        "# Display the first image in training data\n",
        "plt.subplot(121)\n",
        "curr_img = np.reshape(train_X_noisy[10], (28,28))\n",
        "curr_lbl = train_label[10]\n",
        "plt.imshow(curr_img, cmap='gray')\n",
        "plt.title(curr_lbl)\n",
        "\n",
        "# Display the first image in testing data\n",
        "plt.subplot(122)\n",
        "curr_img = np.reshape(valid_X_noisy[98], (28,28))\n",
        "curr_lbl = valid_label[98]\n",
        "plt.imshow(curr_img, cmap='gray')\n",
        "plt.title(curr_lbl)"
      ],
      "execution_count": 0,
      "outputs": [
        {
          "output_type": "stream",
          "text": [
            "/usr/local/lib/python3.6/dist-packages/matplotlib/text.py:1165: FutureWarning: elementwise comparison failed; returning scalar instead, but in the future will perform elementwise comparison\n",
            "  if s != self._text:\n"
          ],
          "name": "stderr"
        },
        {
          "output_type": "execute_result",
          "data": {
            "text/plain": [
              "Text(0.5, 1.0, '[0. 0. 0. 1. 0. 0. 0. 0. 0. 0.]')"
            ]
          },
          "metadata": {
            "tags": []
          },
          "execution_count": 32
        },
        {
          "output_type": "display_data",
          "data": {
            "image/png": "[encoded data removed]",
            "text/plain": [
              "<Figure size 360x360 with 2 Axes>"
            ]
          },
          "metadata": {
            "tags": [],
            "needs_background": "light"
          }
        }
      ]
    },
    {
      "cell_type": "code",
      "metadata": {
        "id": "T_iGLRPZS1Fg",
        "colab_type": "code",
        "colab": {}
      },
      "source": [
        "def encoder(input_img):\n",
        "    #encoder\n",
        "    #input = 28 x 28 x 1 (wide and thin)\n",
        "    conv1 = Conv2D(32, (3, 3), activation='relu', padding='same')(input_img) #28 x 28 x 32\n",
        "    conv1 = BatchNormalization()(conv1)\n",
        "    conv1 = Conv2D(32, (3, 3), activation='relu', padding='same')(conv1)\n",
        "    conv1 = BatchNormalization()(conv1)\n",
        "    pool1 = MaxPooling2D(pool_size=(2, 2))(conv1) #14 x 14 x 32\n",
        "    conv2 = Conv2D(64, (3, 3), activation='relu', padding='same')(pool1) #14 x 14 x 64\n",
        "    conv2 = BatchNormalization()(conv2)\n",
        "    conv2 = Conv2D(64, (3, 3), activation='relu', padding='same')(conv2)\n",
        "    conv2 = BatchNormalization()(conv2)\n",
        "    pool2 = MaxPooling2D(pool_size=(2, 2))(conv2) #7 x 7 x 64\n",
        "    conv3 = Conv2D(128, (3, 3), activation='relu', padding='same')(pool2) #7 x 7 x 128 (small and thick)\n",
        "    conv3 = BatchNormalization()(conv3)\n",
        "    conv3 = Conv2D(128, (3, 3), activation='relu', padding='same')(conv3)\n",
        "    conv3 = BatchNormalization()(conv3)\n",
        "    \n",
        "    return conv3"
      ],
      "execution_count": 0,
      "outputs": []
    },
    {
      "cell_type": "code",
      "metadata": {
        "id": "16uivbSUS9hY",
        "colab_type": "code",
        "colab": {}
      },
      "source": [
        "def fc(enco):\n",
        "    flat = Flatten()(enco)\n",
        "    den = Dense(128, activation='relu')(flat)\n",
        "    lay = Dropout(0.5)(den)\n",
        "    out = Dense(num_classes, activation='softmax')(lay)\n",
        "    return out"
      ],
      "execution_count": 0,
      "outputs": []
    },
    {
      "cell_type": "code",
      "metadata": {
        "id": "nnLRKttgS_hp",
        "colab_type": "code",
        "colab": {}
      },
      "source": [
        "encode = encoder(input_img)\n",
        "full_model = Model(input_img,fc(encode))"
      ],
      "execution_count": 0,
      "outputs": []
    },
    {
      "cell_type": "code",
      "metadata": {
        "id": "0taMAEoqTDKn",
        "colab_type": "code",
        "colab": {}
      },
      "source": [
        "for l1,l2 in zip(full_model.layers[:15],loaded_model.layers[0:15]):\n",
        "    l1.set_weights(l2.get_weights())"
      ],
      "execution_count": 0,
      "outputs": []
    },
    {
      "cell_type": "code",
      "metadata": {
        "id": "iWYokHYBTKou",
        "colab_type": "code",
        "colab": {}
      },
      "source": [
        "for layer in full_model.layers[0:15]:\n",
        "    layer.trainable = False"
      ],
      "execution_count": 0,
      "outputs": []
    },
    {
      "cell_type": "code",
      "metadata": {
        "id": "_eLtwmL8TOj1",
        "colab_type": "code",
        "colab": {}
      },
      "source": [
        "full_model.compile(loss=keras.losses.categorical_crossentropy, optimizer=keras.optimizers.Adam(),metrics=['accuracy'])"
      ],
      "execution_count": 0,
      "outputs": []
    },
    {
      "cell_type": "code",
      "metadata": {
        "id": "qG6UtwnYTRHy",
        "colab_type": "code",
        "outputId": "13763650-6fdc-48b5-a757-dedd80e1be26",
        "colab": {
          "base_uri": "https://localhost:8080/",
          "height": 783
        }
      },
      "source": [
        "full_model.summary()\n"
      ],
      "execution_count": 0,
      "outputs": [
        {
          "output_type": "stream",
          "text": [
            "Model: \"model_7\"\n",
            "_________________________________________________________________\n",
            "Layer (type)                 Output Shape              Param #   \n",
            "=================================================================\n",
            "input_1 (InputLayer)         (None, 28, 28, 1)         0         \n",
            "_________________________________________________________________\n",
            "conv2d_78 (Conv2D)           (None, 28, 28, 32)        320       \n",
            "_________________________________________________________________\n",
            "batch_normalization_73 (Batc (None, 28, 28, 32)        128       \n",
            "_________________________________________________________________\n",
            "conv2d_79 (Conv2D)           (None, 28, 28, 32)        9248      \n",
            "_________________________________________________________________\n",
            "batch_normalization_74 (Batc (None, 28, 28, 32)        128       \n",
            "_________________________________________________________________\n",
            "max_pooling2d_15 (MaxPooling (None, 14, 14, 32)        0         \n",
            "_________________________________________________________________\n",
            "conv2d_80 (Conv2D)           (None, 14, 14, 64)        18496     \n",
            "_________________________________________________________________\n",
            "batch_normalization_75 (Batc (None, 14, 14, 64)        256       \n",
            "_________________________________________________________________\n",
            "conv2d_81 (Conv2D)           (None, 14, 14, 64)        36928     \n",
            "_________________________________________________________________\n",
            "batch_normalization_76 (Batc (None, 14, 14, 64)        256       \n",
            "_________________________________________________________________\n",
            "max_pooling2d_16 (MaxPooling (None, 7, 7, 64)          0         \n",
            "_________________________________________________________________\n",
            "conv2d_82 (Conv2D)           (None, 7, 7, 128)         73856     \n",
            "_________________________________________________________________\n",
            "batch_normalization_77 (Batc (None, 7, 7, 128)         512       \n",
            "_________________________________________________________________\n",
            "conv2d_83 (Conv2D)           (None, 7, 7, 128)         147584    \n",
            "_________________________________________________________________\n",
            "batch_normalization_78 (Batc (None, 7, 7, 128)         512       \n",
            "_________________________________________________________________\n",
            "flatten_3 (Flatten)          (None, 6272)              0         \n",
            "_________________________________________________________________\n",
            "dense_4 (Dense)              (None, 128)               802944    \n",
            "_________________________________________________________________\n",
            "dropout_1 (Dropout)          (None, 128)               0         \n",
            "_________________________________________________________________\n",
            "dense_5 (Dense)              (None, 10)                1290      \n",
            "=================================================================\n",
            "Total params: 1,092,458\n",
            "Trainable params: 804,234\n",
            "Non-trainable params: 288,224\n",
            "_________________________________________________________________\n"
          ],
          "name": "stdout"
        }
      ]
    },
    {
      "cell_type": "code",
      "metadata": {
        "id": "yCPZEaI6TTiv",
        "colab_type": "code",
        "outputId": "ed03c99e-230a-4249-c21d-f43209f67687",
        "colab": {
          "base_uri": "https://localhost:8080/",
          "height": 1000
        }
      },
      "source": [
        "classify_train = full_model.fit(train_X_noisy, train_label, batch_size=64*8,epochs=30,verbose=1,validation_data=(valid_X_noisy, valid_label))\n",
        "#classify_train = full_model.fit(train_X, train_label, batch_size=64,epochs=100,verbose=1,validation_data=(valid_X, valid_label))"
      ],
      "execution_count": 0,
      "outputs": [
        {
          "output_type": "stream",
          "text": [
            "Train on 48000 samples, validate on 12000 samples\n",
            "Epoch 1/30\n",
            "48000/48000 [==============================] - 11s 237us/step - loss: 0.4160 - accuracy: 0.8775 - val_loss: 0.1176 - val_accuracy: 0.9639\n",
            "Epoch 2/30\n",
            "48000/48000 [==============================] - 11s 229us/step - loss: 0.1495 - accuracy: 0.9534 - val_loss: 0.0831 - val_accuracy: 0.9749\n",
            "Epoch 3/30\n",
            "48000/48000 [==============================] - 11s 227us/step - loss: 0.1077 - accuracy: 0.9661 - val_loss: 0.0747 - val_accuracy: 0.9781\n",
            "Epoch 4/30\n",
            "48000/48000 [==============================] - 11s 229us/step - loss: 0.0823 - accuracy: 0.9733 - val_loss: 0.0681 - val_accuracy: 0.9787\n",
            "Epoch 5/30\n",
            "48000/48000 [==============================] - 11s 225us/step - loss: 0.0707 - accuracy: 0.9772 - val_loss: 0.0685 - val_accuracy: 0.9785\n",
            "Epoch 6/30\n",
            "48000/48000 [==============================] - 10s 218us/step - loss: 0.0611 - accuracy: 0.9801 - val_loss: 0.0620 - val_accuracy: 0.9815\n",
            "Epoch 7/30\n",
            "48000/48000 [==============================] - 10s 216us/step - loss: 0.0529 - accuracy: 0.9826 - val_loss: 0.0613 - val_accuracy: 0.9827\n",
            "Epoch 8/30\n",
            "48000/48000 [==============================] - 10s 216us/step - loss: 0.0476 - accuracy: 0.9841 - val_loss: 0.0662 - val_accuracy: 0.9809\n",
            "Epoch 9/30\n",
            "48000/48000 [==============================] - 11s 219us/step - loss: 0.0437 - accuracy: 0.9855 - val_loss: 0.0660 - val_accuracy: 0.9828\n",
            "Epoch 10/30\n",
            "48000/48000 [==============================] - 11s 219us/step - loss: 0.0428 - accuracy: 0.9848 - val_loss: 0.0661 - val_accuracy: 0.9828\n",
            "Epoch 11/30\n",
            "48000/48000 [==============================] - 10s 217us/step - loss: 0.0385 - accuracy: 0.9871 - val_loss: 0.0669 - val_accuracy: 0.9831\n",
            "Epoch 12/30\n",
            "48000/48000 [==============================] - 10s 216us/step - loss: 0.0352 - accuracy: 0.9878 - val_loss: 0.0684 - val_accuracy: 0.9844\n",
            "Epoch 13/30\n",
            "48000/48000 [==============================] - 10s 215us/step - loss: 0.0335 - accuracy: 0.9883 - val_loss: 0.0692 - val_accuracy: 0.9834\n",
            "Epoch 14/30\n",
            "48000/48000 [==============================] - 10s 218us/step - loss: 0.0345 - accuracy: 0.9881 - val_loss: 0.0734 - val_accuracy: 0.9822\n",
            "Epoch 15/30\n",
            "48000/48000 [==============================] - 10s 216us/step - loss: 0.0322 - accuracy: 0.9891 - val_loss: 0.0717 - val_accuracy: 0.9840\n",
            "Epoch 16/30\n",
            "48000/48000 [==============================] - 11s 220us/step - loss: 0.0305 - accuracy: 0.9895 - val_loss: 0.0725 - val_accuracy: 0.9837\n",
            "Epoch 17/30\n",
            "48000/48000 [==============================] - 10s 217us/step - loss: 0.0294 - accuracy: 0.9899 - val_loss: 0.0700 - val_accuracy: 0.9826\n",
            "Epoch 18/30\n",
            "48000/48000 [==============================] - 11s 220us/step - loss: 0.0293 - accuracy: 0.9902 - val_loss: 0.0689 - val_accuracy: 0.9837\n",
            "Epoch 19/30\n",
            "48000/48000 [==============================] - 10s 218us/step - loss: 0.0256 - accuracy: 0.9912 - val_loss: 0.0675 - val_accuracy: 0.9842\n",
            "Epoch 20/30\n",
            "48000/48000 [==============================] - 10s 217us/step - loss: 0.0253 - accuracy: 0.9917 - val_loss: 0.0689 - val_accuracy: 0.9845\n",
            "Epoch 21/30\n",
            "48000/48000 [==============================] - 10s 217us/step - loss: 0.0260 - accuracy: 0.9910 - val_loss: 0.0777 - val_accuracy: 0.9839\n",
            "Epoch 22/30\n",
            "48000/48000 [==============================] - 10s 217us/step - loss: 0.0265 - accuracy: 0.9910 - val_loss: 0.0758 - val_accuracy: 0.9843\n",
            "Epoch 23/30\n",
            "48000/48000 [==============================] - 10s 217us/step - loss: 0.0251 - accuracy: 0.9913 - val_loss: 0.0775 - val_accuracy: 0.9843\n",
            "Epoch 24/30\n",
            "48000/48000 [==============================] - 11s 221us/step - loss: 0.0273 - accuracy: 0.9901 - val_loss: 0.0762 - val_accuracy: 0.9838\n",
            "Epoch 25/30\n",
            "48000/48000 [==============================] - 11s 220us/step - loss: 0.0225 - accuracy: 0.9923 - val_loss: 0.0833 - val_accuracy: 0.9837\n",
            "Epoch 26/30\n",
            "48000/48000 [==============================] - 10s 218us/step - loss: 0.0257 - accuracy: 0.9906 - val_loss: 0.0887 - val_accuracy: 0.9834\n",
            "Epoch 27/30\n",
            "48000/48000 [==============================] - 10s 217us/step - loss: 0.0262 - accuracy: 0.9910 - val_loss: 0.0849 - val_accuracy: 0.9836\n",
            "Epoch 28/30\n",
            "48000/48000 [==============================] - 10s 215us/step - loss: 0.0227 - accuracy: 0.9919 - val_loss: 0.0803 - val_accuracy: 0.9839\n",
            "Epoch 29/30\n",
            "48000/48000 [==============================] - 10s 218us/step - loss: 0.0230 - accuracy: 0.9917 - val_loss: 0.0824 - val_accuracy: 0.9839\n",
            "Epoch 30/30\n",
            "48000/48000 [==============================] - 10s 215us/step - loss: 0.0226 - accuracy: 0.9919 - val_loss: 0.0804 - val_accuracy: 0.9843\n"
          ],
          "name": "stdout"
        }
      ]
    },
    {
      "cell_type": "code",
      "metadata": {
        "id": "7rdoVsswTfuK",
        "colab_type": "code",
        "colab": {}
      },
      "source": [
        "full_model.save_weights('/content/drive/My Drive/fin_autoencoder_classification.h5')"
      ],
      "execution_count": 0,
      "outputs": []
    },
    {
      "cell_type": "code",
      "metadata": {
        "id": "9NR9d5rEEfOV",
        "colab_type": "code",
        "outputId": "685dfdea-62fd-436f-f8df-238aca3920ee",
        "colab": {
          "base_uri": "https://localhost:8080/",
          "height": 545
        }
      },
      "source": [
        "accuracy = classify_train.history['accuracy']\n",
        "val_accuracy = classify_train.history['val_accuracy']\n",
        "loss = classify_train.history['loss']\n",
        "val_loss = classify_train.history['val_loss']\n",
        "epochs = range(len(accuracy))\n",
        "plt.plot(epochs, accuracy, 'bo', label='Training accuracy')\n",
        "plt.plot(epochs, val_accuracy, 'b', label='Validation accuracy')\n",
        "plt.title('Training and validation accuracy')\n",
        "plt.legend()\n",
        "plt.figure()\n",
        "plt.plot(epochs, loss, 'bo', label='Training loss')\n",
        "plt.plot(epochs, val_loss, 'b', label='Validation loss')\n",
        "plt.title('Training and validation loss')\n",
        "plt.legend()\n",
        "plt.show()"
      ],
      "execution_count": 0,
      "outputs": [
        {
          "output_type": "display_data",
          "data": {
            "image/png": "[encoded data removed]",
            "text/plain": [
              "<Figure size 432x288 with 1 Axes>"
            ]
          },
          "metadata": {
            "tags": [],
            "needs_background": "light"
          }
        },
        {
          "output_type": "display_data",
          "data": {
            "image/png": "[encoded data removed]",
            "text/plain": [
              "<Figure size 432x288 with 1 Axes>"
            ]
          },
          "metadata": {
            "tags": [],
            "needs_background": "light"
          }
        }
      ]
    },
    {
      "cell_type": "code",
      "metadata": {
        "id": "cKAj65NRrNnz",
        "colab_type": "code",
        "colab": {}
      },
      "source": [
        "test_eval = full_model.evaluate(noisy_test, test_Y_one_hot, verbose=0)"
      ],
      "execution_count": 0,
      "outputs": []
    },
    {
      "cell_type": "code",
      "metadata": {
        "id": "84wuNjBYsQkP",
        "colab_type": "code",
        "outputId": "7545a5f9-b0a4-4081-d7e7-58997e86ce14",
        "colab": {
          "base_uri": "https://localhost:8080/",
          "height": 50
        }
      },
      "source": [
        "print('Test loss:', test_eval[0])\n",
        "print('Test accuracy:', test_eval[1])"
      ],
      "execution_count": 0,
      "outputs": [
        {
          "output_type": "stream",
          "text": [
            "Test loss: 0.07605720035590421\n",
            "Test accuracy: 0.9850000143051147\n"
          ],
          "name": "stdout"
        }
      ]
    },
    {
      "cell_type": "code",
      "metadata": {
        "id": "nM1E3YPWsTkT",
        "colab_type": "code",
        "colab": {}
      },
      "source": [
        "predicted_classes = full_model.predict(noisy_test)\n"
      ],
      "execution_count": 0,
      "outputs": []
    },
    {
      "cell_type": "code",
      "metadata": {
        "id": "u7e396wGsaO6",
        "colab_type": "code",
        "colab": {}
      },
      "source": [
        "predicted_classes = np.argmax(np.round(predicted_classes),axis=1)"
      ],
      "execution_count": 0,
      "outputs": []
    },
    {
      "cell_type": "code",
      "metadata": {
        "id": "0h9bT14IuBFZ",
        "colab_type": "code",
        "outputId": "923e3769-e64c-4313-85d9-a0964fb935ba",
        "colab": {
          "base_uri": "https://localhost:8080/",
          "height": 297
        }
      },
      "source": [
        "correct = np.where(predicted_classes==y_test)[0]\n",
        "for i, correct in enumerate(correct[40:49]):\n",
        "    plt.subplot(3,3,i+1)\n",
        "    plt.imshow(noisy_test[correct].reshape(28,28), cmap='gray', interpolation='none')\n",
        "    plt.title(\"Predicted {}, Class {}\".format(predicted_classes[correct], y_test[correct]))\n",
        "    plt.tight_layout()"
      ],
      "execution_count": 0,
      "outputs": [
        {
          "output_type": "display_data",
          "data": {
            "image/png": "[encoded data removed]",
            "text/plain": [
              "<Figure size 432x288 with 9 Axes>"
            ]
          },
          "metadata": {
            "tags": [],
            "needs_background": "light"
          }
        }
      ]
    },
    {
      "cell_type": "code",
      "metadata": {
        "id": "1epVlUhZutUK",
        "colab_type": "code",
        "colab": {}
      },
      "source": [
        ""
      ],
      "execution_count": 0,
      "outputs": []
    }
  ]
}